{
  "nbformat": 4,
  "nbformat_minor": 0,
  "metadata": {
    "colab": {
      "provenance": [],
      "gpuType": "T4",
      "authorship_tag": "ABX9TyM12kQDCQo0kckEcUCUShzl",
      "include_colab_link": true
    },
    "kernelspec": {
      "name": "python3",
      "display_name": "Python 3"
    },
    "language_info": {
      "name": "python"
    },
    "accelerator": "GPU"
  },
  "cells": [
    {
      "cell_type": "markdown",
      "metadata": {
        "id": "view-in-github",
        "colab_type": "text"
      },
      "source": [
        "<a href=\"https://colab.research.google.com/github/knight80/COLAB_AI_PRAC/blob/main/%EA%B8%B0%EB%B3%B8%EC%84%A4%EC%A0%95.ipynb\" target=\"_parent\"><img src=\"https://colab.research.google.com/assets/colab-badge.svg\" alt=\"Open In Colab\"/></a>"
      ]
    },
    {
      "cell_type": "markdown",
      "source": [
        "호환버전의 파이썬을 구글드라이브에 저장, 컴파일했음.\n",
        "그냥 설치부터 해서 경로 잡고 패키지 설치해서 사용하면 되겠음"
      ],
      "metadata": {
        "id": "c2e1DCxZGWFl"
      }
    },
    {
      "cell_type": "markdown",
      "source": [
        "1. 구글드라이브 마운트"
      ],
      "metadata": {
        "id": "is07BJYL9P1u"
      }
    },
    {
      "cell_type": "code",
      "execution_count": null,
      "metadata": {
        "id": "b3xWYhGx7imz"
      },
      "outputs": [],
      "source": [
        "from google.colab import drive\n",
        "drive.mount('/content/drive')"
      ]
    },
    {
      "cell_type": "markdown",
      "source": [
        "2. 파이썬 버전 확인"
      ],
      "metadata": {
        "id": "SWSBAfMU99jh"
      }
    },
    {
      "cell_type": "code",
      "source": [
        "!python --version\n",
        "!pip --version"
      ],
      "metadata": {
        "id": "n_XXlWF6-CMo"
      },
      "execution_count": null,
      "outputs": []
    },
    {
      "cell_type": "markdown",
      "source": [
        "3. 파이썬 버전 다운그래이드(3.8.*)\n",
        "   * 1회만 실행하면 됩니다.(폴더 확인 후 건너뛰기 할것.)"
      ],
      "metadata": {
        "id": "yMq8KGIf-NDL"
      }
    },
    {
      "cell_type": "code",
      "source": [
        "#!ls /content/drive/MyDrive/Python/\n",
        "#!wget -N https://www.python.org/ftp/python/3.10.9/Python-3.10.9.tgz -P /content/drive/MyDrive/Python/\n",
        "#!tar -zxvf /content/drive/MyDrive/Python/Python-3.10.9.tgz -C /content/drive/MyDrive/Python/\n",
        "#!rm /content/drive/MyDrive/Python/Python-3.10.9.tgz"
      ],
      "metadata": {
        "collapsed": true,
        "id": "2b-FWHuO-R6e"
      },
      "execution_count": null,
      "outputs": []
    },
    {
      "cell_type": "markdown",
      "source": [
        "4.파이썬 설치(2번째 부터 건너뛰기 가능? 설치가 오래걸리는거 같음)"
      ],
      "metadata": {
        "id": "1KCJPap_B5i5"
      }
    },
    {
      "cell_type": "code",
      "source": [
        "!cd /content/drive/MyDrive/Python/Python-3.10.9 && /content/drive/MyDrive/Python/Python-3.10.9/configure\n",
        "!cd /content/drive/MyDrive/Python/Python-3.10.9 && make\n",
        "!cd /content/drive/MyDrive/Python/Python-3.10.9 && sudo make install"
      ],
      "metadata": {
        "collapsed": true,
        "id": "hYl-YRN3_ArC"
      },
      "execution_count": null,
      "outputs": []
    },
    {
      "cell_type": "markdown",
      "source": [
        "5. 설치작업\n",
        "  - 설치후 경로 변경까지\n"
      ],
      "metadata": {
        "id": "l2F3AnLVEXox"
      }
    },
    {
      "cell_type": "code",
      "source": [
        "!sudo update-alternatives --install /usr/bin/python3 python3 /usr/local/bin/python3.10 1\n",
        "#!sudo update-alternatives --set python3 /usr/bin/python3.10 이 명령어 실행 시 재기동 안됨"
      ],
      "metadata": {
        "id": "gX6LaGLVChO3"
      },
      "execution_count": null,
      "outputs": []
    },
    {
      "cell_type": "markdown",
      "source": [
        "# 6. AI 실습관련 패키지 설치(ratsnlp) 5분"
      ],
      "metadata": {
        "id": "MlPg4aDfF_4N"
      }
    },
    {
      "cell_type": "code",
      "source": [
        "!pip -q install ratsnlp"
      ],
      "metadata": {
        "id": "_rIq6A9JGF56"
      },
      "execution_count": null,
      "outputs": []
    },
    {
      "cell_type": "markdown",
      "source": [
        "7.라이브러리 경로 추가 및 확인(끝)"
      ],
      "metadata": {
        "id": "E52-3i1LFxS9"
      }
    },
    {
      "cell_type": "code",
      "source": [
        "import sys\n",
        "sys.path.append('/usr/local/lib/python3.10/site-packages')\n",
        "\n",
        "import ratsnlp\n",
        "print(\"사용가능함\")"
      ],
      "metadata": {
        "colab": {
          "base_uri": "https://localhost:8080/"
        },
        "id": "mVNig2djCzaA",
        "outputId": "d7cced73-bc50-472c-cfca-c75ddb96f6ff"
      },
      "execution_count": 2,
      "outputs": [
        {
          "output_type": "stream",
          "name": "stdout",
          "text": [
            "사용가능함\n"
          ]
        }
      ]
    }
  ]
}